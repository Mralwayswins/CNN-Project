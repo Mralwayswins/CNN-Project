{
 "cells": [
  {
   "cell_type": "markdown",
   "id": "ff351024",
   "metadata": {},
   "source": [
    "# Machine learning to identify Cats VS Dogs and their breeds "
   ]
  },
  {
   "cell_type": "markdown",
   "id": "512299b2",
   "metadata": {},
   "source": [
    "Citations:\n",
    "\n",
    "Implementations for project cited and ideas from\n",
    "\n",
    "Programming with Mosh\n",
    "- Python Machine learning Tutorial (Data Science)\n",
    "  links: https://www.youtube.com/watch?v=7eh4d6sabA0\n",
    "\n",
    "Fireship\n",
    "- TensorFlow in 100 Seconds\n",
    "  links: https://www.youtube.com/watch?v=i8NETqtGHms\n",
    "\n",
    "Computer Science\n",
    "- Classify Images Using Python & Machine Learning\n",
    "  links: https://www.youtube.com/watch?v=iGWbqhdjf2s\n",
    "\n",
    "DeepLearning_by_PhDScholar\n",
    "- Deep Learning - Image Classification Tutorial step by step (for Beginners) (python / TensorFlow)\n",
    "  links: https://www.youtube.com/watch?v=Gz_PsRRxrHM\n",
    "\n",
    "Balaji Srinivasan\n",
    "- Cat Vs Dog prediction\n",
    "  links: https://www.youtube.com/watch?v=FLf5qmSOkwU,\n",
    "         https://www.youtube.com/watch?v=4ae13fiKDqo,\n",
    "         https://www.youtube.com/watch?v=KmrR-ceL7d8\n",
    "\n",
    "Learn Python\n",
    "- How To Save And Load The Model In Keras\n",
    "  links: https://www.youtube.com/watch?v=vJWbSTJYXGM\n",
    "  \n",
    "Database from Kaggle:\n",
    "- Cats and dogs: https://www.kaggle.com/datasets/arpitjain007/dog-vs-cat-fastai\n",
    "- Cat and dog breeds: https://www.kaggle.com/datasets/imsparsh/animal-breed-cats-and-dogs"
   ]
  },
  {
   "cell_type": "code",
   "execution_count": 7,
   "id": "eb4f17a5",
   "metadata": {},
   "outputs": [],
   "source": [
    "import numpy as np\n",
    "import cv2\n",
    "import os\n",
    "import random\n",
    "import matplotlib.pyplot as plt\n",
    "import pickle\n",
    "import gc"
   ]
  },
  {
   "cell_type": "code",
   "execution_count": 8,
   "id": "117324f2",
   "metadata": {},
   "outputs": [
    {
     "data": {
      "text/plain": [
       "484"
      ]
     },
     "execution_count": 8,
     "metadata": {},
     "output_type": "execute_result"
    }
   ],
   "source": [
    "gc.collect()"
   ]
  },
  {
   "cell_type": "code",
   "execution_count": 2,
   "id": "02564035",
   "metadata": {},
   "outputs": [],
   "source": [
    "DIRECTORY = r\"E:\\Machine Learning Pic\\dogscats\\dogscats\\train\"\n",
    "CATEGORIES = ['cats', 'dogs']"
   ]
  },
  {
   "cell_type": "code",
   "execution_count": 3,
   "id": "65598162",
   "metadata": {},
   "outputs": [],
   "source": [
    "IMG_SIZE = 100\n",
    "\n",
    "data = []\n",
    "\n",
    "for category in CATEGORIES:\n",
    "    folder = os.path.join(DIRECTORY, category)\n",
    "    label = CATEGORIES.index(category)\n",
    "    for img in os.listdir(folder):\n",
    "        img_path = os.path.join(folder, img)\n",
    "        img_arr = cv2.imread(img_path)\n",
    "        img_arr = cv2.resize(img_arr, (IMG_SIZE, IMG_SIZE))\n",
    "        data.append([img_arr, label])"
   ]
  },
  {
   "cell_type": "code",
   "execution_count": 6,
   "id": "10da7f15",
   "metadata": {},
   "outputs": [],
   "source": [
    "DIRECTORY_TEST = r'E:\\Machine Learning Pic\\dogscats\\valid'\n",
    "test_data = []\n",
    "for category in CATEGORIES:\n",
    "    folder = os.path.join(DIRECTORY_TEST, category)\n",
    "    label = CATEGORIES.index(category)\n",
    "    for img in os.listdir(folder):\n",
    "        img_path = os.path.join(folder, img)\n",
    "        \n",
    "        img_arr = cv2.imread(img_path)\n",
    "        img_arr = cv2.resize(img_arr, (IMG_SIZE, IMG_SIZE))\n",
    "        \n",
    "        test_data.append([img_arr, label])\n",
    "        \n"
   ]
  },
  {
   "cell_type": "code",
   "execution_count": 4,
   "id": "465658f3",
   "metadata": {},
   "outputs": [],
   "source": [
    "MAIN_DIRECTORY = r'E:\\Machine Learning Pic\\Breed\\Cats-and-Dogs-Breed-Dataset-main\\TRAIN'\n",
    "subDirectories = [os.path.join(MAIN_DIRECTORY, d) for d in os.listdir(MAIN_DIRECTORY) if os.path.isdir(os.path.join(MAIN_DIRECTORY, d))]\n",
    "breed_data = []\n",
    "totalBreed = []\n",
    "for directory in subDirectories:\n",
    "    folder = os.path.join(MAIN_DIRECTORY, directory)\n",
    "    label = os.path.basename(folder)\n",
    "    totalBreed.append(label)\n",
    "    for img in os.listdir(folder):\n",
    "        img_path = os.path.join(folder, img)\n",
    "        \n",
    "        img_arr = cv2.imread(img_path)\n",
    "        # Filter invalid input \n",
    "        if img_arr is None:\n",
    "            continue\n",
    "        img_arr = cv2.resize(img_arr, (IMG_SIZE, IMG_SIZE))\n",
    "        \n",
    "        breed_data.append([img_arr, label])"
   ]
  },
  {
   "cell_type": "code",
   "execution_count": 5,
   "id": "ef8f8a21",
   "metadata": {},
   "outputs": [
    {
     "ename": "NameError",
     "evalue": "name 'test_data' is not defined",
     "output_type": "error",
     "traceback": [
      "\u001b[1;31m---------------------------------------------------------------------------\u001b[0m",
      "\u001b[1;31mNameError\u001b[0m                                 Traceback (most recent call last)",
      "Cell \u001b[1;32mIn[5], line 1\u001b[0m\n\u001b[1;32m----> 1\u001b[0m \u001b[38;5;28mprint\u001b[39m(\u001b[38;5;28mlen\u001b[39m(\u001b[43mtest_data\u001b[49m))\n\u001b[0;32m      2\u001b[0m \u001b[38;5;28mprint\u001b[39m(\u001b[38;5;28mlen\u001b[39m(breed_data))\n\u001b[0;32m      3\u001b[0m \u001b[38;5;28mprint\u001b[39m(\u001b[38;5;28mlen\u001b[39m(totalBreed))\n",
      "\u001b[1;31mNameError\u001b[0m: name 'test_data' is not defined"
     ]
    }
   ],
   "source": [
    "print(len(test_data))\n",
    "print(len(breed_data))\n",
    "print(len(totalBreed))\n",
    "len(data)"
   ]
  },
  {
   "cell_type": "code",
   "execution_count": 10,
   "id": "e5b0ec0f",
   "metadata": {},
   "outputs": [],
   "source": [
    "random.shuffle(data)\n",
    "random.shuffle(test_data)\n",
    "random.shuffle(totalBreed)"
   ]
  },
  {
   "cell_type": "code",
   "execution_count": 42,
   "id": "ea198f71",
   "metadata": {},
   "outputs": [
    {
     "data": {
      "text/plain": [
       "[array([[[ 49,  67,  51],\n",
       "         [ 49,  67,  51],\n",
       "         [ 48,  66,  50],\n",
       "         ...,\n",
       "         [ 21,  42,  30],\n",
       "         [ 26,  42,  31],\n",
       "         [ 24,  40,  29]],\n",
       " \n",
       "        [[ 49,  65,  55],\n",
       "         [ 49,  65,  55],\n",
       "         [ 48,  64,  54],\n",
       "         ...,\n",
       "         [ 21,  42,  30],\n",
       "         [ 24,  40,  29],\n",
       "         [ 23,  39,  28]],\n",
       " \n",
       "        [[ 48,  64,  54],\n",
       "         [ 50,  66,  56],\n",
       "         [ 49,  64,  55],\n",
       "         ...,\n",
       "         [ 20,  41,  29],\n",
       "         [ 26,  42,  31],\n",
       "         [ 24,  40,  29]],\n",
       " \n",
       "        ...,\n",
       " \n",
       "        [[210, 214, 209],\n",
       "         [209, 212, 207],\n",
       "         [213, 216, 211],\n",
       "         ...,\n",
       "         [106, 100, 139],\n",
       "         [ 94,  85, 107],\n",
       "         [ 92,  87,  94]],\n",
       " \n",
       "        [[231, 229, 220],\n",
       "         [223, 221, 212],\n",
       "         [222, 220, 211],\n",
       "         ...,\n",
       "         [105, 103, 151],\n",
       "         [ 81,  76, 107],\n",
       "         [ 81,  74,  84]],\n",
       " \n",
       "        [[241, 238, 224],\n",
       "         [240, 237, 223],\n",
       "         [242, 239, 225],\n",
       "         ...,\n",
       "         [100, 101, 156],\n",
       "         [ 96,  93, 131],\n",
       "         [ 88,  79,  92]]], dtype=uint8),\n",
       " 1]"
      ]
     },
     "execution_count": 42,
     "metadata": {},
     "output_type": "execute_result"
    }
   ],
   "source": [
    "data[0]"
   ]
  },
  {
   "cell_type": "code",
   "execution_count": 11,
   "id": "3925b8bf",
   "metadata": {},
   "outputs": [],
   "source": [
    "X = []\n",
    "y = []\n",
    "X_test = []\n",
    "y_test = []\n",
    "breedX = []\n",
    "breedy = []\n",
    "\n",
    "for features, labels in data:\n",
    "    X.append(features)\n",
    "    y.append(labels)\n",
    "    \n",
    "for features, labels in test_data:\n",
    "    X_test.append(features)\n",
    "    y_test.append(labels)\n",
    "\n",
    "for features, labels in breed_data:\n",
    "    breedX.append(features)\n",
    "    breedy.append(totalBreed.index(labels))"
   ]
  },
  {
   "cell_type": "code",
   "execution_count": 14,
   "id": "7c96c661",
   "metadata": {},
   "outputs": [],
   "source": [
    "X = np.array(X)\n",
    "y = np.array(y)\n",
    "\n",
    "X_test = np.array(X_test)\n",
    "y_test = np.array(y_test)\n",
    "\n",
    "breedX = np.array(breedX)\n",
    "breedy = np.array(breedy)\n",
    "\n",
    "totalBreed = np.array(totalBreed)"
   ]
  },
  {
   "cell_type": "code",
   "execution_count": 15,
   "id": "a65476dd",
   "metadata": {},
   "outputs": [],
   "source": [
    "pickle.dump(X, open('X.pkl', 'wb'))\n",
    "pickle.dump(y, open('y.pkl', 'wb'))\n",
    "\n",
    "pickle.dump(X_test, open('X_test.pkl', 'wb'))\n",
    "pickle.dump(y_test, open('y_test.pkl', 'wb'))\n",
    "\n",
    "pickle.dump(breedX, open('breedX.pkl', 'wb'))\n",
    "pickle.dump(breedy, open('breedy.pkl', 'wb'))\n",
    "\n",
    "pickle.dump(totalBreed, open('totalBreed.pkl', 'wb'))"
   ]
  }
 ],
 "metadata": {
  "kernelspec": {
   "display_name": "Python 3 (ipykernel)",
   "language": "python",
   "name": "python3"
  },
  "language_info": {
   "codemirror_mode": {
    "name": "ipython",
    "version": 3
   },
   "file_extension": ".py",
   "mimetype": "text/x-python",
   "name": "python",
   "nbconvert_exporter": "python",
   "pygments_lexer": "ipython3",
   "version": "3.9.18"
  }
 },
 "nbformat": 4,
 "nbformat_minor": 5
}
